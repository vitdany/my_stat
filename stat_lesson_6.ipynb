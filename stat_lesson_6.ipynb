{
 "cells": [
  {
   "cell_type": "code",
   "execution_count": 11,
   "metadata": {},
   "outputs": [
    {
     "name": "stdout",
     "output_type": "stream",
     "text": [
      "10175.37777777778 10175.377777777778\n",
      "0.9861001023043514\n"
     ]
    }
   ],
   "source": [
    "#1\n",
    "zp = [35,  45, 190, 200, 40, 70,  54, 150, 120, 110]\n",
    "ks = [401, 574, 874, 919, 459, 739, 653, 902, 746, 832]\n",
    "my_cov = None\n",
    "np_cov = None\n",
    "ps_cov = None\n",
    "n = len(zp)\n",
    "\n",
    "import numpy as np\n",
    "ave_zp = np.mean(zp)\n",
    "ave_ks = np.mean(ks)\n",
    "\n",
    "my_cov = ((zp - ave_zp)*(ks - ave_ks)).sum()/(n-1)\n",
    "mp_cov, x = np.cov(zp,ks)\n",
    "\n",
    "std_zp = np.std(zp)\n",
    "std_ks = np.std(ks)\n",
    "\n",
    "ps_cov = my_cov/(std_zp*std_ks)\n",
    "\n",
    "print(f'{my_cov} {mp_cov[1]}')\n",
    "\n",
    "print(f'{ps_cov}')\n",
    "\n"
   ]
  },
  {
   "cell_type": "code",
   "execution_count": 34,
   "metadata": {},
   "outputs": [
    {
     "name": "stdout",
     "output_type": "stream",
     "text": [
      "3.3348329959851224\n",
      "3.3348329959851224\n",
      "110.55608365158724  118.1  125.64391634841274\n",
      "110.55608365158724  118.1  125.64391634841274\n"
     ]
    }
   ],
   "source": [
    "#2\n",
    "\n",
    "q = [131, 125, 115, 122, 131, 115, 107, 99, 125, 111]\n",
    "p = 0.95\n",
    "a = None\n",
    "b = None\n",
    "n = len(q)\n",
    "\n",
    "from math import sqrt\n",
    "ave = np.mean(q)\n",
    "std = np.std(q, ddof=1)\n",
    "\n",
    "import scipy.stats as st\n",
    "\n",
    "t = st.t.ppf( (1+p)/2., n-1) * (std/sqrt(n))\n",
    "\n",
    "print(std/sqrt(n))\n",
    "print(st.sem(q))\n",
    "\n",
    "a = ave+t\n",
    "b = ave-t\n",
    "print(f'{b}  {ave}  {a}')\n",
    "\n",
    "b,a= st.t.interval(p, n-1, loc=ave, scale=st.sem(q)) \n",
    "print(f'{b}  {ave}  {a}')\n",
    "\n",
    "\n"
   ]
  },
  {
   "cell_type": "code",
   "execution_count": 50,
   "metadata": {},
   "outputs": [
    {
     "name": "stdout",
     "output_type": "stream",
     "text": [
      "1.959963984540054\n",
      "172.3140237765397  174.2  176.08597622346028\n",
      "172.3140237765397  174.2  176.08597622346028\n"
     ]
    }
   ],
   "source": [
    "#3\n",
    "d=25\n",
    "std=5\n",
    "n=27\n",
    "ave=174.2\n",
    "p=0.95\n",
    "a = None\n",
    "b = None\n",
    "\n",
    "z = st.norm.ppf( (1+p)/2., loc=0,  scale=1)\n",
    "print(z)\n",
    "\n",
    "a = ave + z*std/sqrt(n)\n",
    "b = ave - z*std/sqrt(n)\n",
    "print(f'{b}  {ave}  {a}')\n",
    "\n",
    "b,a = st.norm.interval(p, loc=ave, scale=std/sqrt(n) ) \n",
    "print(f'{b}  {ave}  {a}')"
   ]
  },
  {
   "cell_type": "code",
   "execution_count": null,
   "metadata": {},
   "outputs": [],
   "source": []
  }
 ],
 "metadata": {
  "kernelspec": {
   "display_name": "Python 3",
   "language": "python",
   "name": "python3"
  },
  "language_info": {
   "codemirror_mode": {
    "name": "ipython",
    "version": 3
   },
   "file_extension": ".py",
   "mimetype": "text/x-python",
   "name": "python",
   "nbconvert_exporter": "python",
   "pygments_lexer": "ipython3",
   "version": "3.7.4"
  }
 },
 "nbformat": 4,
 "nbformat_minor": 2
}
