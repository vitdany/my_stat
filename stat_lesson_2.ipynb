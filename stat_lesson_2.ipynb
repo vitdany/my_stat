{
 "cells": [
  {
   "cell_type": "markdown",
   "metadata": {},
   "source": [
    "Урок 2.\n",
    "\n",
    "1. Вероятность того, что стрелок попадет в мишень, выстрелив один раз, равна 0.8. \n",
    "Стрелок выстрелил 100 раз. \n",
    "Найдите вероятность того, что стрелок попадет в цель ровно 85 раз.\n",
    "\n",
    "2. Вероятность того, что лампочка перегорит в течение первого дня эксплуатации, равна 0.0004. \n",
    "В жилом комплексе после ремонта в один день включили 5000 новых лампочек. \n",
    "Какова вероятность, что ни одна из них не перегорит в первый день? \n",
    "Какова вероятность, что перегорят ровно две?\n",
    "\n",
    "3. Монету подбросили 144 раза. \n",
    "Какова вероятность, что орел выпадет ровно 70 раз?\n",
    "\n",
    "4. В первом ящике находится 10 мячей, из которых 7 - белые. \n",
    "Во втором ящике - 11 мячей, из которых 9 белых. \n",
    "Из каждого ящика вытаскивают случайным образом по два мяча. \n",
    "Какова вероятность того, что все мячи белые? \n",
    "Какова вероятность того, что ровно два мяча белые? \n",
    "Какова вероятность того, что хотя бы один мяч белый?\n"
   ]
  },
  {
   "cell_type": "code",
   "execution_count": 20,
   "metadata": {},
   "outputs": [],
   "source": [
    "def combinations(n,k):\n",
    "     return int(factorial(n)/(factorial(k)*factorial(n-k)))"
   ]
  },
  {
   "cell_type": "code",
   "execution_count": 50,
   "metadata": {},
   "outputs": [
    {
     "name": "stdout",
     "output_type": "stream",
     "text": [
      "0.048061793700746355\n"
     ]
    }
   ],
   "source": [
    "# 1.\n",
    "import numpy as np\n",
    "from math import factorial\n",
    "\n",
    "n = 100\n",
    "k = 85\n",
    "p = 0.8\n",
    "X = combinations(n, k) * (p ** k) * (1 - p) ** (n - k)\n",
    "print(X)\n",
    "\n"
   ]
  },
  {
   "cell_type": "code",
   "execution_count": 51,
   "metadata": {},
   "outputs": [
    {
     "name": "stdout",
     "output_type": "stream",
     "text": [
      "0.1353352832366127\n",
      "0.2706705664732254\n"
     ]
    }
   ],
   "source": [
    "# 2.\n",
    "\n",
    "n = 5000\n",
    "m1 = 0\n",
    "m2 = 2\n",
    "p = 0.0004\n",
    "lambda_ = n * p\n",
    "\n",
    "print((lambda_**m1 / np.math.factorial(m1) * np.exp(-lambda_)))\n",
    "print((lambda_**m2 / np.math.factorial(m2) * np.exp(-lambda_)))"
   ]
  },
  {
   "cell_type": "code",
   "execution_count": 52,
   "metadata": {},
   "outputs": [
    {
     "name": "stdout",
     "output_type": "stream",
     "text": [
      "0.06281178035144776\n"
     ]
    }
   ],
   "source": [
    "# 3.\n",
    "\n",
    "n = 144\n",
    "k = 70\n",
    "p = 0.5\n",
    "X = combinations(n, k) * (p ** k) * (1 - p) ** (n - k)\n",
    "print(X)\n"
   ]
  },
  {
   "cell_type": "code",
   "execution_count": 45,
   "metadata": {},
   "outputs": [],
   "source": [
    "# 4. \n",
    "\n",
    "\n"
   ]
  },
  {
   "cell_type": "code",
   "execution_count": 56,
   "metadata": {},
   "outputs": [
    {
     "name": "stdout",
     "output_type": "stream",
     "text": [
      " 3 21 21 \n",
      " 0.06666666666666667 0.4666666666666667 0.4666666666666667 \n"
     ]
    }
   ],
   "source": [
    "\n",
    "\n",
    "#box 1\n",
    "n = 10\n",
    "b = 7\n",
    "k = 2 \n",
    "n_all = combinations(n, k) # все комбинации\n",
    "n_2_white = combinations(b, k) # два белых\n",
    "n_0_white = combinations( n - b, k) # 0 белых\n",
    "n_1_white = n_all - n_2_white - n_0_white # 1 белый\n",
    "\n",
    "print(f\" {n_0_white} {n_1_white} {n_2_white} \" )\n",
    "p_0_white_box1 = n_0_white / n_all\n",
    "p_1_white_box1 = n_1_white / n_all\n",
    "p_2_white_box1 = n_2_white / n_all\n",
    "\n",
    "print(f\" {p_0_white_box1} {p_1_white_box1} {p_2_white_box1} \" )\n",
    "\n"
   ]
  },
  {
   "cell_type": "code",
   "execution_count": 58,
   "metadata": {},
   "outputs": [
    {
     "name": "stdout",
     "output_type": "stream",
     "text": [
      " 1 18 36 \n",
      " 0.01818181818181818 0.32727272727272727 0.6545454545454545 \n"
     ]
    }
   ],
   "source": [
    "#box 2\n",
    "n = 11\n",
    "b = 9\n",
    "k = 2 \n",
    "n_all = combinations(n, k) # все комбинации\n",
    "n_2_white = combinations(b, k) # два белых\n",
    "n_0_white = combinations( n - b, k) # 0 белых\n",
    "n_1_white = n_all - n_2_white - n_0_white # 1 белый\n",
    "\n",
    "print(f\" {n_0_white} {n_1_white} {n_2_white} \" )\n",
    "p_0_white_box2 = n_0_white / n_all\n",
    "p_1_white_box2 = n_1_white / n_all\n",
    "p_2_white_box2 = n_2_white / n_all\n",
    "\n",
    "print(f\" {p_0_white_box2} {p_1_white_box2} {p_2_white_box2} \" )"
   ]
  },
  {
   "cell_type": "code",
   "execution_count": 59,
   "metadata": {},
   "outputs": [
    {
     "name": "stdout",
     "output_type": "stream",
     "text": [
      " Р четыре мячя белые = 0.3054545454545455\n",
      " Р два мячя белые = 0.20484848484848486\n",
      " Р хотя бы один мяч белый = 0.9987878787878788\n"
     ]
    }
   ],
   "source": [
    "\n",
    "\n",
    "p_4_white = p_2_white_box2 * p_2_white_box1\n",
    "print(f\" Р четыре мячя белые = {p_4_white}\") \n",
    "\n",
    "p_2_white = p_2_white_box2 * p_0_white_box1 + p_0_white_box2 * p_2_white_box1 + p_1_white_box2 * p_1_white_box1\n",
    "print(f\" Р два мячя белые = {p_2_white}\") \n",
    "\n",
    "p_1_white = 1 - p_0_white_box1 * p_0_white_box2\n",
    "print(f\" Р хотя бы один мяч белый = {p_1_white}\") \n"
   ]
  }
 ],
 "metadata": {
  "kernelspec": {
   "display_name": "Python 3",
   "language": "python",
   "name": "python3"
  },
  "language_info": {
   "codemirror_mode": {
    "name": "ipython",
    "version": 3
   },
   "file_extension": ".py",
   "mimetype": "text/x-python",
   "name": "python",
   "nbconvert_exporter": "python",
   "pygments_lexer": "ipython3",
   "version": "3.7.4"
  }
 },
 "nbformat": 4,
 "nbformat_minor": 2
}
