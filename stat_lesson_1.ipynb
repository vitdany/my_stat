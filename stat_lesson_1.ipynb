{
 "cells": [
  {
   "cell_type": "code",
   "execution_count": 1,
   "metadata": {},
   "outputs": [],
   "source": [
    "from math import factorial"
   ]
  },
  {
   "cell_type": "code",
   "execution_count": 17,
   "metadata": {},
   "outputs": [],
   "source": [
    "def combinations(n,k):\n",
    "     return int(factorial(n)/(factorial(k)*factorial(n-k)))\n",
    "    \n",
    "def arrangements(n,k):\n",
    "     return int(factorial(n)/factorial(n-k))\n",
    "\n",
    "def permutations(n):\n",
    "     return int(factorial(n))"
   ]
  },
  {
   "cell_type": "markdown",
   "metadata": {},
   "source": [
    "Задача 1. Из 52 карты извлекаются 4 карты а)найти вероятность что все крести  б) хотя бы один туз "
   ]
  },
  {
   "cell_type": "code",
   "execution_count": 31,
   "metadata": {},
   "outputs": [
    {
     "name": "stdout",
     "output_type": "stream",
     "text": [
      "0.0026410564225690276\n",
      "1.4775140825560994e-05\n"
     ]
    }
   ],
   "source": [
    "count_all = combinations(52,4)\n",
    "\n",
    "count_clubs = combinations(13, 4)\n",
    "p_four_clubs = count_clubs / count_all\n",
    "print(p_four_clubs)\n",
    "\n",
    "count_ace = 4\n",
    "p_one_ace = count_ace / count_all\n",
    "print(p_one_ace)\n"
   ]
  },
  {
   "cell_type": "markdown",
   "metadata": {},
   "source": [
    "Задача 2.Кодовый замок 0-9 код сотоит из 3 цифр, при оновременном нажатии. Вероятность открыть с первого раза?   "
   ]
  },
  {
   "cell_type": "code",
   "execution_count": 32,
   "metadata": {},
   "outputs": [
    {
     "name": "stdout",
     "output_type": "stream",
     "text": [
      "0.001388888888888889\n"
     ]
    }
   ],
   "source": [
    "count_all = arrangements(10, 3)\n",
    "count_target = 1\n",
    "p_one_code = count_target / count_all\n",
    "print(p_one_code)"
   ]
  },
  {
   "cell_type": "markdown",
   "metadata": {},
   "source": [
    "Задача 3.В ящике 15 деталей,9 окрашены. Вероятность вытащить три окрашенных? "
   ]
  },
  {
   "cell_type": "code",
   "execution_count": 33,
   "metadata": {},
   "outputs": [
    {
     "name": "stdout",
     "output_type": "stream",
     "text": [
      "0.18461538461538463\n"
     ]
    }
   ],
   "source": [
    "count_all = combinations(15,3)\n",
    "count_target = combinations(9,3)\n",
    "p_three = count_target/count_all\n",
    "print(p_three)"
   ]
  },
  {
   "cell_type": "markdown",
   "metadata": {},
   "source": [
    "Задача 4.В 100 билетах 2 выигрышных. Вероятность купить одновременно два выигрышных? "
   ]
  },
  {
   "cell_type": "code",
   "execution_count": 34,
   "metadata": {},
   "outputs": [
    {
     "name": "stdout",
     "output_type": "stream",
     "text": [
      "0.00020202020202020202\n"
     ]
    }
   ],
   "source": [
    "count_all = combinations(100,2)\n",
    "count_target = 1\n",
    "p_two = count_target/count_all\n",
    "print(p_two)"
   ]
  }
 ],
 "metadata": {
  "kernelspec": {
   "display_name": "Python 3",
   "language": "python",
   "name": "python3"
  },
  "language_info": {
   "codemirror_mode": {
    "name": "ipython",
    "version": 3
   },
   "file_extension": ".py",
   "mimetype": "text/x-python",
   "name": "python",
   "nbconvert_exporter": "python",
   "pygments_lexer": "ipython3",
   "version": "3.7.4"
  }
 },
 "nbformat": 4,
 "nbformat_minor": 2
}
