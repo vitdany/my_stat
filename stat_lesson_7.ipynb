{
 "cells": [
  {
   "cell_type": "markdown",
   "metadata": {},
   "source": [
    "#1 Даны значения величины заработной платы заемщиков банка (zp) \n",
    "и значения их поведенческого кредитного скоринга (ks): \n",
    "    zp = [35, 45, 190, 200, 40, 70, 54, 150, 120, 110], \n",
    "    ks = [401, 574, 874, 919, 459, 739, 653, 902, 746, 832]. \n",
    "Используя математические операции, посчитать коэффициенты линейной регрессии, \n",
    "приняв за X заработную плату (то есть, zp - признак), \n",
    "а за y - значения скорингового балла (то есть, ks - целевая переменная). \n",
    "Произвести расчет как с использованием intercept, так и без."
   ]
  },
  {
   "cell_type": "code",
   "execution_count": 31,
   "metadata": {},
   "outputs": [],
   "source": [
    "import numpy as np\n",
    "zp = np.array([35, 45, 190, 200, 40, 70, 54, 150, 120, 110], dtype = np.float64)\n",
    "ks = np.array([401, 574, 874, 919, 459, 739, 653, 902, 746, 832], dtype = np.float64)"
   ]
  },
  {
   "cell_type": "code",
   "execution_count": 2,
   "metadata": {},
   "outputs": [],
   "source": []
  },
  {
   "cell_type": "code",
   "execution_count": 32,
   "metadata": {},
   "outputs": [
    {
     "name": "stdout",
     "output_type": "stream",
     "text": [
      "y = 444.1773573243596 + 2.620538882402765x\n"
     ]
    }
   ],
   "source": [
    "n = len(zp)\n",
    "\n",
    "b = (np.mean(zp*ks) - np.mean(zp)* np.mean(ks))/ (np.mean(zp**2) - np.mean(zp)**2)\n",
    "a = np.mean(ks) - b*np.mean(zp)\n",
    "\n",
    "print(f'y = {a} + {b}x')"
   ]
  },
  {
   "cell_type": "code",
   "execution_count": 33,
   "metadata": {},
   "outputs": [
    {
     "name": "stdout",
     "output_type": "stream",
     "text": [
      "0.8874900920739162 0.7876386635293682\n"
     ]
    }
   ],
   "source": [
    "r = b*np.std(zp)/np.std(ks)\n",
    "R2 = r**2\n",
    "\n",
    "print( f'{r} {R2}')"
   ]
  },
  {
   "cell_type": "code",
   "execution_count": 34,
   "metadata": {
    "scrolled": true
   },
   "outputs": [
    {
     "data": {
      "text/plain": [
       "array([535.89621821, 562.10160703, 942.07974498, 968.2851338 ,\n",
       "       548.99891262, 627.61507909, 585.68645697, 837.25818968,\n",
       "       758.64202321, 732.43663439])"
      ]
     },
     "execution_count": 34,
     "metadata": {},
     "output_type": "execute_result"
    }
   ],
   "source": [
    "y_pred = a + b*zp\n",
    "y_pred"
   ]
  },
  {
   "cell_type": "code",
   "execution_count": 35,
   "metadata": {},
   "outputs": [
    {
     "data": {
      "text/plain": [
       "6470.414201176658"
      ]
     },
     "execution_count": 35,
     "metadata": {},
     "output_type": "execute_result"
    }
   ],
   "source": [
    "mse  = ((y_pred - ks)**2).sum()/n\n",
    "mse"
   ]
  },
  {
   "cell_type": "code",
   "execution_count": 20,
   "metadata": {
    "scrolled": true
   },
   "outputs": [
    {
     "data": {
      "text/plain": [
       "11.46925184356171"
      ]
     },
     "execution_count": 20,
     "metadata": {},
     "output_type": "execute_result"
    }
   ],
   "source": [
    "A_mean = 100 * np.mean(np.abs(ks- y_pred)/ks)\n",
    "A_mean"
   ]
  },
  {
   "cell_type": "code",
   "execution_count": 22,
   "metadata": {},
   "outputs": [
    {
     "data": {
      "text/plain": [
       "29.671640859664432"
      ]
     },
     "execution_count": 22,
     "metadata": {},
     "output_type": "execute_result"
    }
   ],
   "source": [
    "F_fact = (r**2*(n-2))/(1-r**2)\n",
    "F_fact"
   ]
  },
  {
   "cell_type": "code",
   "execution_count": 23,
   "metadata": {},
   "outputs": [
    {
     "data": {
      "text/plain": [
       "8"
      ]
     },
     "execution_count": 23,
     "metadata": {},
     "output_type": "execute_result"
    }
   ],
   "source": [
    "k1 = 1\n",
    "k2 = n-2\n",
    "k2\n"
   ]
  },
  {
   "cell_type": "code",
   "execution_count": null,
   "metadata": {},
   "outputs": [],
   "source": [
    "F_kr = 5.3\n",
    "#F_kr < F_fact, уравнение статистически значимо\n"
   ]
  },
  {
   "cell_type": "code",
   "execution_count": null,
   "metadata": {},
   "outputs": [],
   "source": [
    "#без ntercept"
   ]
  },
  {
   "cell_type": "code",
   "execution_count": 45,
   "metadata": {
    "scrolled": true
   },
   "outputs": [
    {
     "data": {
      "text/plain": [
       "array([[5.88982042]])"
      ]
     },
     "execution_count": 45,
     "metadata": {},
     "output_type": "execute_result"
    }
   ],
   "source": [
    "x = zp.reshape(10,1)\n",
    "y = ks.reshape(10,1)\n",
    "b = np.dot(np.linalg.inv(np.dot(x.T,x)), x.T @ y)\n",
    "b"
   ]
  },
  {
   "cell_type": "code",
   "execution_count": 46,
   "metadata": {},
   "outputs": [
    {
     "data": {
      "text/plain": [
       "array([[ 206.1437147 ,  265.04191891, 1119.06587983, 1177.96408403,\n",
       "         235.59281681,  412.28742941,  318.05030269,  883.47306302,\n",
       "         706.77845042,  647.88024621]])"
      ]
     },
     "execution_count": 46,
     "metadata": {},
     "output_type": "execute_result"
    }
   ],
   "source": [
    "y_pred = b*zp\n",
    "y_pred\n"
   ]
  },
  {
   "cell_type": "code",
   "execution_count": 47,
   "metadata": {},
   "outputs": [
    {
     "data": {
      "text/plain": [
       "56516.8584157194"
      ]
     },
     "execution_count": 47,
     "metadata": {},
     "output_type": "execute_result"
    }
   ],
   "source": [
    "mse  = ((y_pred - ks)**2).sum()/n\n",
    "mse"
   ]
  },
  {
   "cell_type": "code",
   "execution_count": 48,
   "metadata": {},
   "outputs": [
    {
     "data": {
      "text/plain": [
       "33.225451661167305"
      ]
     },
     "execution_count": 48,
     "metadata": {},
     "output_type": "execute_result"
    }
   ],
   "source": [
    "A_mean = 100 * np.mean(np.abs(ks- y_pred)/ks)\n",
    "A_mean"
   ]
  },
  {
   "cell_type": "code",
   "execution_count": 49,
   "metadata": {},
   "outputs": [
    {
     "data": {
      "text/plain": [
       "29.671640859664432"
      ]
     },
     "execution_count": 49,
     "metadata": {},
     "output_type": "execute_result"
    }
   ],
   "source": [
    "F_fact = (r**2*(n-2))/(1-r**2)\n",
    "F_fact"
   ]
  },
  {
   "cell_type": "markdown",
   "metadata": {},
   "source": [
    "#2 Посчитать коэффициент \n",
    "линейной регрессии при заработной плате (zp), \n",
    "используя градиентный спуск (без intercept). \n",
    "*3. Произвести вычисления как в пункте 2, но с вычислением intercept. \n",
    "Учесть, что изменение коэффициентов должно\n",
    "производиться на каждом шаге одновременно \n",
    "(то есть изменение одного коэффициента не должно \n",
    " влиять на изменение другого во время одной итерации)."
   ]
  },
  {
   "cell_type": "code",
   "execution_count": 145,
   "metadata": {},
   "outputs": [
    {
     "data": {
      "text/plain": [
       "[<matplotlib.lines.Line2D at 0x9bb4208>]"
      ]
     },
     "execution_count": 145,
     "metadata": {},
     "output_type": "execute_result"
    },
    {
     "data": {
      "image/png": "[encoded data removed]",
      "text/plain": [
       "<Figure size 432x288 with 1 Axes>"
      ]
     },
     "metadata": {
      "needs_background": "light"
     },
     "output_type": "display_data"
    }
   ],
   "source": [
    "X=zp\n",
    "y=ks\n",
    "def mse_(B1, y=y, X=X, n=10):\n",
    "    return np.sum((B1*X-y)**2)/n\n",
    "a = 0.000001\n",
    "B1 = 0.01\n",
    "m = []\n",
    "b = []\n",
    "for i in range(100):\n",
    "    B1-= a*(2/n)*np.sum(B1*X-y*X)\n",
    "    m.append(mse_(B1))\n",
    "    b.append(B1)\n",
    "    #print(f' B1={B1} mse ={mse_(B1)}')\n",
    "\n",
    "    \n",
    "from matplotlib import pyplot as plt\n",
    "%matplotlib inline   \n",
    "plt.plot(m)  \n",
    "\n"
   ]
  },
  {
   "cell_type": "code",
   "execution_count": 146,
   "metadata": {
    "scrolled": true
   },
   "outputs": [
    {
     "data": {
      "text/plain": [
       "5.831443249536272"
      ]
     },
     "execution_count": 146,
     "metadata": {},
     "output_type": "execute_result"
    }
   ],
   "source": [
    "v, i = min((v,i) for (i,v) in enumerate(m))\n",
    "b[i]"
   ]
  },
  {
   "cell_type": "code",
   "execution_count": 147,
   "metadata": {},
   "outputs": [],
   "source": [
    "#3\n",
    "B1 = 0.01\n",
    "B0 = 0.01\n",
    "\n",
    "def mse_(B0, B1, y=y, X=X, n=10):\n",
    "    return np.sum((B0+B1*X-y)**2)/n"
   ]
  },
  {
   "cell_type": "code",
   "execution_count": 148,
   "metadata": {
    "scrolled": true
   },
   "outputs": [],
   "source": [
    "a = 1e-05\n",
    "b1=[]\n",
    "b0=[]\n",
    "for i in range(500000):\n",
    "    y_pred = B0+B1*X\n",
    "    B0-= a*(2/n)*np.sum((y_pred-y))\n",
    "    B1-= a*(2/n)*np.sum((y_pred-y)*X)\n",
    "    m.append(mse_(B0, B1))\n",
    "    b1.append(B1)\n",
    "    b0.append(B0)\n",
    "   # print(f' B1={B1} mse ={mse_(B0,B1)}')"
   ]
  },
  {
   "cell_type": "code",
   "execution_count": 139,
   "metadata": {},
   "outputs": [
    {
     "data": {
      "text/plain": [
       "[<matplotlib.lines.Line2D at 0x116d8e08>]"
      ]
     },
     "execution_count": 139,
     "metadata": {},
     "output_type": "execute_result"
    },
    {
     "data": {
      "image/png": "[encoded data removed]",
      "text/plain": [
       "<Figure size 432x288 with 1 Axes>"
      ]
     },
     "metadata": {
      "needs_background": "light"
     },
     "output_type": "display_data"
    },
    {
     "data": {
      "image/png": "[encoded data removed]",
      "text/plain": [
       "<Figure size 432x288 with 1 Axes>"
      ]
     },
     "metadata": {
      "needs_background": "light"
     },
     "output_type": "display_data"
    },
    {
     "data": {
      "image/png": "[encoded data removed]",
      "text/plain": [
       "<Figure size 432x288 with 1 Axes>"
      ]
     },
     "metadata": {
      "needs_background": "light"
     },
     "output_type": "display_data"
    }
   ],
   "source": [
    "from matplotlib import pyplot as plt\n",
    "%matplotlib inline   \n",
    "plt.figure()\n",
    "plt.plot(m)\n",
    "plt.figure()\n",
    "plt.plot(b1)\n",
    "plt.figure()\n",
    "plt.plot(b0)"
   ]
  },
  {
   "cell_type": "code",
   "execution_count": 150,
   "metadata": {},
   "outputs": [
    {
     "name": "stdout",
     "output_type": "stream",
     "text": [
      "2.6205490302338164 444.17597862578714\n"
     ]
    }
   ],
   "source": [
    "print( f'{b1[-1]} {b0[-1]}') "
   ]
  },
  {
   "cell_type": "code",
   "execution_count": null,
   "metadata": {},
   "outputs": [],
   "source": []
  }
 ],
 "metadata": {
  "kernelspec": {
   "display_name": "Python 3",
   "language": "python",
   "name": "python3"
  },
  "language_info": {
   "codemirror_mode": {
    "name": "ipython",
    "version": 3
   },
   "file_extension": ".py",
   "mimetype": "text/x-python",
   "name": "python",
   "nbconvert_exporter": "python",
   "pygments_lexer": "ipython3",
   "version": "3.7.4"
  }
 },
 "nbformat": 4,
 "nbformat_minor": 2
}
